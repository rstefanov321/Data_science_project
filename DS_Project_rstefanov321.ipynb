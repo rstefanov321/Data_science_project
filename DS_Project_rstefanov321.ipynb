{
 "cells": [
  {
   "cell_type": "markdown",
   "id": "bb4203e5",
   "metadata": {},
   "source": [
    "# Cars' acceptance levels- and Geo-related dataset analysis and results visulaisations"
   ]
  },
  {
   "cell_type": "markdown",
   "id": "872df539",
   "metadata": {},
   "source": [
    "## Author: Radoslav Stefanov - @rstefanov321"
   ]
  },
  {
   "cell_type": "markdown",
   "id": "d60374a8",
   "metadata": {},
   "source": [
    "# Abstract\n",
    "\n",
    "Data is everywhere around us - from the steps we measure on our smart watch every day when we walk/run to a system log of an aircraft carying thousands of passengers daily. Within this data, we can draw some conclusions, which can improve the way we do things - I walked 1000 steps today, need to improve this to reach my weight goal. Those indicator in the luggage department is giving some false information, it needs to be checked. Therefore, collecting and understanding data is key to our progress in any sphere of life. \n",
    "\n",
    "In this document, two topics will be discussed. The first one is the acceptance level of cars based on their features, such as maintenance, sales, number of doors, luggage room, etc. The results reveal pretty much expected results, where vehicles with 2 doors are predominantly considered unacceptable, while the 5-door cars are more preferred. In addition, the Random Forest Classifier algorithm was applied to successfully predict (98% accuracy) the acceptance level of a vehicle from a given test set. \n",
    "The second topic attempts to visualise the size of the world's capitals in terms of their population. For this purpose, two datasets were used and merged together. The final one has geo coordinates (latitude, longitude) and Population size that will be inserted into a function to create the world's map with dots representing the location of the capitals. The population of each capital city was scaled down to a range of 1 to 200 with 1 being the least populated city and 200 - the biggest city. Thus, it was made easier to grasp capitals' sizes and how they are distributed - mostly among coastlines for better economic opportunities."
   ]
  },
  {
   "cell_type": "markdown",
   "id": "e4b22f36",
   "metadata": {},
   "source": [
    "## Import modules "
   ]
  },
  {
   "cell_type": "code",
   "execution_count": 1,
   "id": "7f9b90a8",
   "metadata": {},
   "outputs": [],
   "source": [
    "%matplotlib inline"
   ]
  },
  {
   "cell_type": "code",
   "execution_count": 2,
   "id": "7aa52c03",
   "metadata": {},
   "outputs": [
    {
     "name": "stderr",
     "output_type": "stream",
     "text": [
      "C:\\Users\\rstef\\anaconda3\\lib\\site-packages\\paramiko\\transport.py:219: CryptographyDeprecationWarning: Blowfish has been deprecated\n",
      "  \"class\": algorithms.Blowfish,\n"
     ]
    }
   ],
   "source": [
    "import numpy as np\n",
    "import pandas as pd\n",
    "\n",
    "import matplotlib.pyplot as plt\n",
    "\n",
    "# Classifier Imports\n",
    "from sklearn.ensemble import RandomForestClassifier\n",
    "from sklearn.model_selection import train_test_split\n",
    "from sklearn.metrics import accuracy_score\n",
    "import socket\n",
    "\n",
    "\n",
    "# Imports for the visuals \n",
    "import seaborn as sns\n",
    "from sklearn.metrics import confusion_matrix\n",
    "\n",
    "# Imports for the world map\n",
    "import geopandas as gpd\n",
    "import geodatasets\n",
    "\n",
    "from shapely.geometry import Point, LineString, Polygon\n",
    "\n",
    "from datasets import load_dataset"
   ]
  },
  {
   "cell_type": "code",
   "execution_count": 3,
   "id": "daddfe3b",
   "metadata": {},
   "outputs": [],
   "source": [
    "# if the datasets module is not installed:\n",
    "\n",
    "# pip install datasets"
   ]
  },
  {
   "cell_type": "markdown",
   "id": "d716eb0f",
   "metadata": {},
   "source": [
    "## Car Dataset analysis and visualisations\n",
    "<hr>"
   ]
  },
  {
   "cell_type": "markdown",
   "id": "e338f65f",
   "metadata": {},
   "source": [
    "The first dataset to be used is categorising vehicles by their acceptance levels based on certain features such as sales volume, maintenance costs, door counts, luggage goot and so on. Two types of analysis will be done - the first one is by taking a sigle feature - car doors and comparing the acceptance levels. The second one will be applying the Random Forest Classifier algorithm to attempt to predict the acceptance levels of test vehicles, given a training set.\n",
    "\n",
    "**Source: [Acceptance levels of cars](https://huggingface.co/datasets/mstz/car)**"
   ]
  },
  {
   "cell_type": "code",
   "execution_count": 4,
   "id": "33cf9ac9",
   "metadata": {},
   "outputs": [],
   "source": [
    "dataset = load_dataset(\"mstz/car\", \"car\")"
   ]
  },
  {
   "cell_type": "code",
   "execution_count": 5,
   "id": "2c5fa04d",
   "metadata": {},
   "outputs": [],
   "source": [
    "cardataframe = pd.DataFrame(dataset[\"train\"])"
   ]
  },
  {
   "cell_type": "code",
   "execution_count": 6,
   "id": "c96895f3",
   "metadata": {},
   "outputs": [
    {
     "data": {
      "text/html": [
       "<div>\n",
       "<style scoped>\n",
       "    .dataframe tbody tr th:only-of-type {\n",
       "        vertical-align: middle;\n",
       "    }\n",
       "\n",
       "    .dataframe tbody tr th {\n",
       "        vertical-align: top;\n",
       "    }\n",
       "\n",
       "    .dataframe thead th {\n",
       "        text-align: right;\n",
       "    }\n",
       "</style>\n",
       "<table border=\"1\" class=\"dataframe\">\n",
       "  <thead>\n",
       "    <tr style=\"text-align: right;\">\n",
       "      <th></th>\n",
       "      <th>buying</th>\n",
       "      <th>maint</th>\n",
       "      <th>doors</th>\n",
       "      <th>persons</th>\n",
       "      <th>lug_boot</th>\n",
       "      <th>safety</th>\n",
       "      <th>acceptability_level</th>\n",
       "    </tr>\n",
       "  </thead>\n",
       "  <tbody>\n",
       "    <tr>\n",
       "      <th>0</th>\n",
       "      <td>3</td>\n",
       "      <td>3</td>\n",
       "      <td>2</td>\n",
       "      <td>2</td>\n",
       "      <td>0</td>\n",
       "      <td>0</td>\n",
       "      <td>0</td>\n",
       "    </tr>\n",
       "    <tr>\n",
       "      <th>1</th>\n",
       "      <td>3</td>\n",
       "      <td>3</td>\n",
       "      <td>2</td>\n",
       "      <td>2</td>\n",
       "      <td>0</td>\n",
       "      <td>1</td>\n",
       "      <td>0</td>\n",
       "    </tr>\n",
       "    <tr>\n",
       "      <th>2</th>\n",
       "      <td>3</td>\n",
       "      <td>3</td>\n",
       "      <td>2</td>\n",
       "      <td>2</td>\n",
       "      <td>0</td>\n",
       "      <td>2</td>\n",
       "      <td>0</td>\n",
       "    </tr>\n",
       "    <tr>\n",
       "      <th>3</th>\n",
       "      <td>3</td>\n",
       "      <td>3</td>\n",
       "      <td>2</td>\n",
       "      <td>2</td>\n",
       "      <td>1</td>\n",
       "      <td>0</td>\n",
       "      <td>0</td>\n",
       "    </tr>\n",
       "    <tr>\n",
       "      <th>4</th>\n",
       "      <td>3</td>\n",
       "      <td>3</td>\n",
       "      <td>2</td>\n",
       "      <td>2</td>\n",
       "      <td>1</td>\n",
       "      <td>1</td>\n",
       "      <td>0</td>\n",
       "    </tr>\n",
       "  </tbody>\n",
       "</table>\n",
       "</div>"
      ],
      "text/plain": [
       "   buying  maint  doors  persons  lug_boot  safety  acceptability_level\n",
       "0       3      3      2        2         0       0                    0\n",
       "1       3      3      2        2         0       1                    0\n",
       "2       3      3      2        2         0       2                    0\n",
       "3       3      3      2        2         1       0                    0\n",
       "4       3      3      2        2         1       1                    0"
      ]
     },
     "execution_count": 6,
     "metadata": {},
     "output_type": "execute_result"
    }
   ],
   "source": [
    "cardataframe.head()"
   ]
  },
  {
   "cell_type": "code",
   "execution_count": 7,
   "id": "9978350c",
   "metadata": {},
   "outputs": [
    {
     "data": {
      "text/plain": [
       "(1728, 7)"
      ]
     },
     "execution_count": 7,
     "metadata": {},
     "output_type": "execute_result"
    }
   ],
   "source": [
    "cardataframe.shape"
   ]
  },
  {
   "cell_type": "markdown",
   "id": "1f5f85c3",
   "metadata": {},
   "source": [
    "Extracting the columns to rename the shortened names with better readable names"
   ]
  },
  {
   "cell_type": "code",
   "execution_count": 8,
   "id": "44bf892f",
   "metadata": {},
   "outputs": [],
   "source": [
    "# col_list = list(cardataframe.columns)\n",
    "col_list = ['buying',\n",
    " 'maint',\n",
    " 'doors',\n",
    " 'persons',\n",
    " 'lug_boot',\n",
    " 'safety',\n",
    " 'acceptability_level']"
   ]
  },
  {
   "cell_type": "code",
   "execution_count": 9,
   "id": "ac55a25e",
   "metadata": {},
   "outputs": [],
   "source": [
    "# Change the names of the columns as such:\n",
    "cardataframe = cardataframe.rename(columns={\n",
    "    \"buying\":\"sales\", \n",
    "    \"maint\":\"maintenance\",\n",
    "})"
   ]
  },
  {
   "cell_type": "code",
   "execution_count": 10,
   "id": "0ec49451",
   "metadata": {},
   "outputs": [
    {
     "data": {
      "text/plain": [
       "Index(['sales', 'maintenance', 'doors', 'persons', 'lug_boot', 'safety',\n",
       "       'acceptability_level'],\n",
       "      dtype='object')"
      ]
     },
     "execution_count": 10,
     "metadata": {},
     "output_type": "execute_result"
    }
   ],
   "source": [
    "cardataframe.columns"
   ]
  },
  {
   "cell_type": "code",
   "execution_count": 11,
   "id": "80ed2c61",
   "metadata": {},
   "outputs": [],
   "source": [
    "# Extract the categories of acceptability_level\n",
    "category_meanings = {\"unacceptable\": 0,\n",
    "                    \"acceptable\": 1,\n",
    "                    \"good\":2,\n",
    "                    \"very good\": 3}"
   ]
  },
  {
   "cell_type": "code",
   "execution_count": 12,
   "id": "db335fbc",
   "metadata": {},
   "outputs": [],
   "source": [
    "# Get how many types of cars there are in terms of doors\n",
    "\n",
    "cardataframe[\"doors\"].unique()\n",
    "doors_count = [2, 3, 4, 5]\n"
   ]
  },
  {
   "cell_type": "code",
   "execution_count": 13,
   "id": "3f2dbad5",
   "metadata": {
    "scrolled": false
   },
   "outputs": [],
   "source": [
    "# Take out the number of doors and see if there is any relation between their number and the acceptance level\n",
    "\n",
    "# for each car\n",
    "acceptability_dist_each = []\n",
    "for i in doors_count:\n",
    "    # extract the DataFrames each having the door number as a filter\n",
    "    get_doors = cardataframe.loc[cardataframe[\"doors\"] == i]\n",
    "    \n",
    "\n",
    "    # extract the counts of each acceptability level respectively, returned in a Series \n",
    "    accept_dist = get_doors[\"acceptability_level\"].value_counts()\n",
    "\n",
    "    # record the series in a list:\n",
    "    acceptability_dist_each.append(list(accept_dist))\n",
    "\n",
    "# print(type(acceptability_dist_each[0]))\n",
    "\n",
    "    "
   ]
  },
  {
   "cell_type": "code",
   "execution_count": 14,
   "id": "142a2f28",
   "metadata": {},
   "outputs": [],
   "source": [
    "# Sample data\n",
    "data = {\n",
    "    \"door_2\": acceptability_dist_each[0],\n",
    "    \"door_3\": acceptability_dist_each[1],\n",
    "    \"door_4\": acceptability_dist_each[2],\n",
    "    \"door_5\": acceptability_dist_each[3],\n",
    "}\n",
    "\n",
    "# Create a DataFrame with the data to see the distribution of unacceptable to acceptable cars by the index\n",
    "df = pd.DataFrame(data, index=category_meanings.keys())\n"
   ]
  },
  {
   "cell_type": "code",
   "execution_count": 15,
   "id": "1ecaf1da",
   "metadata": {
    "scrolled": true
   },
   "outputs": [
    {
     "data": {
      "image/png": "[encoded data removed]",
      "text/plain": [
       "<Figure size 1500x600 with 1 Axes>"
      ]
     },
     "metadata": {},
     "output_type": "display_data"
    }
   ],
   "source": [
    "\n",
    "# Create an array of index positions for the bars\n",
    "index_positions = np.arange(len(df.index))\n",
    "\n",
    "# Plot each series with bars next to each other\n",
    "width = 0.2  # Width of each bar\n",
    "fig, ax = plt.subplots(figsize=(15, 6))\n",
    "\n",
    "ax.bar(index_positions - 1.5*width, df['door_2'], width=width, label='door_2')\n",
    "ax.bar(index_positions - 0.5*width, df['door_3'], width=width, label='door_3')\n",
    "ax.bar(index_positions + 0.5*width, df['door_4'], width=width, label='door_4')\n",
    "ax.bar(index_positions + 1.5*width, df['door_5'], width=width, label='door_5')\n",
    "\n",
    "# Customize the plot\n",
    "ax.set_title('Bar Chart with Door Counts and their acceptability levels')\n",
    "ax.set_xlabel('Categories')\n",
    "ax.set_ylabel('Reviews')\n",
    "ax.set_xticks(index_positions)\n",
    "ax.set_xticklabels(df.index)\n",
    "ax.legend()\n",
    "\n",
    "# Show the plot\n",
    "plt.show()\n"
   ]
  },
  {
   "cell_type": "markdown",
   "id": "e51a071b",
   "metadata": {},
   "source": [
    "It appears that the unacceptability of the cars is quite predominant amongst the categories (people are very picky...). However, there is another observation, and this is more or less predictable - the unacceptability of the 2-door cars is the largest amongst the other car types. In real life, 2-door cars are indeed a less preferred and less practical vehicle."
   ]
  },
  {
   "cell_type": "code",
   "execution_count": 16,
   "id": "1b3fff4a",
   "metadata": {},
   "outputs": [
    {
     "data": {
      "text/html": [
       "<div>\n",
       "<style scoped>\n",
       "    .dataframe tbody tr th:only-of-type {\n",
       "        vertical-align: middle;\n",
       "    }\n",
       "\n",
       "    .dataframe tbody tr th {\n",
       "        vertical-align: top;\n",
       "    }\n",
       "\n",
       "    .dataframe thead th {\n",
       "        text-align: right;\n",
       "    }\n",
       "</style>\n",
       "<table border=\"1\" class=\"dataframe\">\n",
       "  <thead>\n",
       "    <tr style=\"text-align: right;\">\n",
       "      <th></th>\n",
       "      <th>unacceptable</th>\n",
       "      <th>acceptable</th>\n",
       "      <th>good</th>\n",
       "      <th>very good</th>\n",
       "    </tr>\n",
       "  </thead>\n",
       "  <tbody>\n",
       "    <tr>\n",
       "      <th>door_2</th>\n",
       "      <td>326</td>\n",
       "      <td>81</td>\n",
       "      <td>15</td>\n",
       "      <td>10</td>\n",
       "    </tr>\n",
       "    <tr>\n",
       "      <th>door_3</th>\n",
       "      <td>300</td>\n",
       "      <td>99</td>\n",
       "      <td>18</td>\n",
       "      <td>15</td>\n",
       "    </tr>\n",
       "    <tr>\n",
       "      <th>door_4</th>\n",
       "      <td>292</td>\n",
       "      <td>102</td>\n",
       "      <td>20</td>\n",
       "      <td>18</td>\n",
       "    </tr>\n",
       "    <tr>\n",
       "      <th>door_5</th>\n",
       "      <td>292</td>\n",
       "      <td>102</td>\n",
       "      <td>20</td>\n",
       "      <td>18</td>\n",
       "    </tr>\n",
       "  </tbody>\n",
       "</table>\n",
       "</div>"
      ],
      "text/plain": [
       "        unacceptable  acceptable  good  very good\n",
       "door_2           326          81    15         10\n",
       "door_3           300          99    18         15\n",
       "door_4           292         102    20         18\n",
       "door_5           292         102    20         18"
      ]
     },
     "execution_count": 16,
     "metadata": {},
     "output_type": "execute_result"
    }
   ],
   "source": [
    "# Let's transpose it, to see the gap between unacceptable and acceptable cars per door type\n",
    "transposed_df = df.T\n",
    "transposed_df"
   ]
  },
  {
   "cell_type": "code",
   "execution_count": 17,
   "id": "eba82b94",
   "metadata": {},
   "outputs": [
    {
     "data": {
      "image/png": "[encoded data removed]",
      "text/plain": [
       "<Figure size 1000x600 with 1 Axes>"
      ]
     },
     "metadata": {},
     "output_type": "display_data"
    }
   ],
   "source": [
    "# Create an array of index positions for the bars\n",
    "index_positions = np.arange(len(df.index))\n",
    "\n",
    "# Plot each series with bars next to each other\n",
    "width = 0.2  # Width of each bar\n",
    "fig, ax = plt.subplots(figsize=(10, 6))\n",
    "\n",
    "ax.bar(index_positions - 1.5*width, transposed_df['unacceptable'], width=width, label='unacceptable')\n",
    "ax.bar(index_positions - 0.5*width, transposed_df['acceptable'], width=width, label='acceptable')\n",
    "ax.bar(index_positions + 0.5*width, transposed_df['good'], width=width, label='good')\n",
    "ax.bar(index_positions + 1.5*width, transposed_df['very good'], width=width, label='very good')\n",
    "\n",
    "# Customize the plot\n",
    "ax.set_title('Bar Chart with acceptability rates for each car type in terms of doors')\n",
    "ax.set_xlabel('Numer of Doors')\n",
    "ax.set_ylabel('Reviews')\n",
    "ax.set_xticks(index_positions)\n",
    "ax.set_xticklabels(transposed_df.index)\n",
    "ax.legend()\n",
    "\n",
    "# Show the plot\n",
    "plt.show()\n"
   ]
  },
  {
   "cell_type": "markdown",
   "id": "c196467c",
   "metadata": {},
   "source": [
    "The trend from above about the unacceptability levels is repeated here, but now it is easier to grasp the gap between the unacceptable and the acceptable cars, with unacceptable being almost 4 times more than the next category. In addition, the good and very good vehicles are a very small part of the dataset, but we can see that the 4 and 5-door cars have more occurrences in those categories. Such an event should be expected, as those cars are the most preferred type of vehicle and reliability should be on point there.\n"
   ]
  },
  {
   "cell_type": "markdown",
   "id": "0150e525",
   "metadata": {},
   "source": [
    "Once we have done a simple comparison between the door types and their acceptance levels, let's use some more advanced methods to try and predict the acceptability of a car based on all the features provided. \n",
    "\n",
    "For this purpose, we will use the Random Forest Classifier algorithm, which will attempt to tell what acceptance level would each test car have, given the training data provided from the training set. "
   ]
  },
  {
   "cell_type": "code",
   "execution_count": 18,
   "id": "a097f1ed",
   "metadata": {
    "scrolled": true
   },
   "outputs": [],
   "source": [
    "# We can either use the original dataframe or split it into X and y, which will be then split further into training\n",
    "# and testing sets\n",
    "\n",
    "cardataframe_x = cardataframe[['sales', 'maintenance', 'doors', 'persons', 'lug_boot', 'safety']]\n",
    "\n",
    "cardataframe_y = cardataframe['acceptability_level']\n",
    "\n"
   ]
  },
  {
   "cell_type": "code",
   "execution_count": 19,
   "id": "61f9b9aa",
   "metadata": {},
   "outputs": [],
   "source": [
    "# split dataset into training and testing sets\n",
    "X_train, X_test, y_train, y_test = train_test_split(cardataframe_x, cardataframe_y, test_size=0.4, random_state=42)\n",
    "\n",
    "# Create random forrest classifier object\n",
    "rf = RandomForestClassifier(n_estimators=100, random_state=42)\n",
    "\n",
    "# train the classifier\n",
    "rf.fit(X_train, y_train)\n",
    "\n",
    "# predict on test set\n",
    "y_pred = rf.predict(X_test)"
   ]
  },
  {
   "cell_type": "code",
   "execution_count": 20,
   "id": "f22079be",
   "metadata": {
    "scrolled": true
   },
   "outputs": [
    {
     "name": "stdout",
     "output_type": "stream",
     "text": [
      "Accuracy:  0.9739884393063584\n"
     ]
    }
   ],
   "source": [
    "accuracy = accuracy_score(y_test, y_pred)\n",
    "print(\"Accuracy: \", accuracy)"
   ]
  },
  {
   "cell_type": "markdown",
   "id": "b3791aad",
   "metadata": {},
   "source": [
    "As it can be seen, the accuracy of the model is very high (1 being exact match to the original), thanks to the big number of records, and, supposedly, to the easily recognisable patterns in the features.\n",
    "\n",
    "Now, let's visualize where the errors were made:"
   ]
  },
  {
   "cell_type": "code",
   "execution_count": 37,
   "id": "e9e8375a",
   "metadata": {},
   "outputs": [
    {
     "data": {
      "image/png": "[encoded data removed]",
      "text/plain": [
       "<Figure size 640x480 with 2 Axes>"
      ]
     },
     "metadata": {},
     "output_type": "display_data"
    }
   ],
   "source": [
    "# Let's calculate the confustion matrix\n",
    "cm = confusion_matrix(y_test, y_pred)\n",
    "\n",
    "# Plot confusion matrix heatmap, which shows where the errors were appearing.\n",
    "sns.heatmap(cm, annot=True, cmap=\"Reds\")\n",
    "plt.xlabel('Acceptability levels')\n",
    "plt.ylabel(\"Acceptability levels\")\n",
    "plt.show() "
   ]
  },
  {
   "cell_type": "markdown",
   "id": "a25585ae",
   "metadata": {},
   "source": [
    "As we can see, the confusion matrix shows where we have diversions from the original acceptability levels, i.e. around the diagonal from top left to bottom right. Fortunately, those errors are a very small part of all the predictions and the Random Forest Classifier has successfully predicted almost all of the categories."
   ]
  },
  {
   "cell_type": "markdown",
   "id": "732b1e4c",
   "metadata": {},
   "source": [
    "## Proportional representation of World's Capitals by Population on a World Map\n",
    "<hr>"
   ]
  },
  {
   "cell_type": "markdown",
   "id": "88c1b313",
   "metadata": {},
   "source": [
    "The second part of this research will combine two datasets - Population of Capital Cities in the World and the Coordinates (Latitude and Longitude) of each capital. \n",
    "\n",
    "The end goal is to present the capitals on a world map with dots having a size proportional to their population when compared with the other capitals. This visualisation could give a better understanding of how the world's population is distributed (at least in the capital cities). \n"
   ]
  },
  {
   "cell_type": "markdown",
   "id": "920909be",
   "metadata": {},
   "source": [
    "To cope with the initial formatting, it was necessary to make some amendments to the datasets. \n",
    "\n",
    "In the first dataset, the degrees were in Degrees/ Minutes format together with a direction sign (N, S, E, W) as seen in the image below. Those column values have to be changed into decimal degrees, e.g. 45 degrees and 30 minutes South would become -45.5\n",
    "\n",
    "<img src=\"initial_coordinates_format.png\" alt=\"initial_formatting\" style=\"width:800px;height:400px;\">\n",
    "\n",
    "**Source: [Capitals and their coordinates](http://www.csgnetwork.com/llinfotable.html)**\n"
   ]
  },
  {
   "cell_type": "code",
   "execution_count": 22,
   "id": "db7e9e4b",
   "metadata": {
    "scrolled": true
   },
   "outputs": [
    {
     "data": {
      "text/html": [
       "<div>\n",
       "<style scoped>\n",
       "    .dataframe tbody tr th:only-of-type {\n",
       "        vertical-align: middle;\n",
       "    }\n",
       "\n",
       "    .dataframe tbody tr th {\n",
       "        vertical-align: top;\n",
       "    }\n",
       "\n",
       "    .dataframe thead th {\n",
       "        text-align: right;\n",
       "    }\n",
       "</style>\n",
       "<table border=\"1\" class=\"dataframe\">\n",
       "  <thead>\n",
       "    <tr style=\"text-align: right;\">\n",
       "      <th></th>\n",
       "      <th>Country</th>\n",
       "      <th>Capital</th>\n",
       "      <th>Latitude</th>\n",
       "      <th>Longitude</th>\n",
       "    </tr>\n",
       "  </thead>\n",
       "  <tbody>\n",
       "    <tr>\n",
       "      <th>0</th>\n",
       "      <td>Afghanistan</td>\n",
       "      <td>Kabul</td>\n",
       "      <td>34.28N</td>\n",
       "      <td>69.11E</td>\n",
       "    </tr>\n",
       "    <tr>\n",
       "      <th>1</th>\n",
       "      <td>Albania</td>\n",
       "      <td>Tirane</td>\n",
       "      <td>41.18N</td>\n",
       "      <td>19.49E</td>\n",
       "    </tr>\n",
       "    <tr>\n",
       "      <th>2</th>\n",
       "      <td>Algeria</td>\n",
       "      <td>Algiers</td>\n",
       "      <td>36.42N</td>\n",
       "      <td>03.08E</td>\n",
       "    </tr>\n",
       "    <tr>\n",
       "      <th>3</th>\n",
       "      <td>American Samoa</td>\n",
       "      <td>Pago Pago</td>\n",
       "      <td>14.16S</td>\n",
       "      <td>170.43W</td>\n",
       "    </tr>\n",
       "    <tr>\n",
       "      <th>4</th>\n",
       "      <td>Andorra</td>\n",
       "      <td>Andorra la Vella</td>\n",
       "      <td>42.31N</td>\n",
       "      <td>01.32E</td>\n",
       "    </tr>\n",
       "  </tbody>\n",
       "</table>\n",
       "</div>"
      ],
      "text/plain": [
       "          Country           Capital Latitude Longitude\n",
       "0     Afghanistan             Kabul   34.28N    69.11E\n",
       "1         Albania            Tirane   41.18N    19.49E\n",
       "2         Algeria           Algiers   36.42N    03.08E\n",
       "3  American Samoa         Pago Pago   14.16S   170.43W\n",
       "4         Andorra  Andorra la Vella   42.31N    01.32E"
      ]
     },
     "execution_count": 22,
     "metadata": {},
     "output_type": "execute_result"
    }
   ],
   "source": [
    "content = pd.read_csv(\"csv_geo_coordinates_of_capitals.csv\")\n",
    "    \n",
    "content.head()"
   ]
  },
  {
   "cell_type": "markdown",
   "id": "c04a123f",
   "metadata": {},
   "source": [
    "Creating a function to convert Decimal Minutes (DM) coordinates to decimal for the Latitude column to output the wanted format. The four decimal points of the coordinates were intentionally selected to give a better accuracy to the locations."
   ]
  },
  {
   "cell_type": "code",
   "execution_count": 23,
   "id": "4df070fa",
   "metadata": {
    "scrolled": true
   },
   "outputs": [
    {
     "name": "stdout",
     "output_type": "stream",
     "text": [
      "            Country           Capital  Latitude Longitude\n",
      "0       Afghanistan             Kabul   34.4667    69.11E\n",
      "1           Albania            Tirane   41.3000    19.49E\n",
      "2           Algeria           Algiers   36.7000    03.08E\n",
      "3    American Samoa         Pago Pago  -14.2667   170.43W\n",
      "4           Andorra  Andorra la Vella   42.5167    01.32E\n",
      "..              ...               ...       ...       ...\n",
      "194       Venezuela           Caracas   10.5000    66.55W\n",
      "195        Viet Nam             Hanoi   21.0833   105.55E\n",
      "196      Yugoslavia          Belgrade   44.8333    20.37E\n",
      "197          Zambia            Lusaka  -15.4667    28.16E\n",
      "198        Zimbabwe            Harare  -17.7167    31.02E\n",
      "\n",
      "[199 rows x 4 columns]\n"
     ]
    }
   ],
   "source": [
    "\n",
    "def dms_to_decimal(coord):\n",
    "    direction = coord[-1]  # Get the last character (N or S)\n",
    "    degrees, minutes = map(float, coord[:-1].split('.'))\n",
    "    decimal = degrees + minutes / 60\n",
    "    if direction == 'S':\n",
    "        decimal *= -1\n",
    "    return \"{:.4f}\".format(decimal)\n",
    "\n",
    "# make the column string dtype\n",
    "content[\"Latitude\"] = content[\"Latitude\"].astype(str)\n",
    "\n",
    "\n",
    "# Apply the function to the 'Latitude' column\n",
    "content['Latitude'] = content['Latitude'].apply(dms_to_decimal)\n",
    "\n",
    "# Display the modified DataFrame\n",
    "print(content)"
   ]
  },
  {
   "cell_type": "markdown",
   "id": "16e4b3d9",
   "metadata": {},
   "source": [
    "Let's do the same with the Longitude column "
   ]
  },
  {
   "cell_type": "code",
   "execution_count": 24,
   "id": "81bf213a",
   "metadata": {
    "scrolled": true
   },
   "outputs": [
    {
     "name": "stdout",
     "output_type": "stream",
     "text": [
      "            Country           Capital  Latitude  Longitude\n",
      "0       Afghanistan             Kabul   34.4667    69.1833\n",
      "1           Albania            Tirane   41.3000    19.8167\n",
      "2           Algeria           Algiers   36.7000     3.1333\n",
      "3    American Samoa         Pago Pago  -14.2667  -170.7167\n",
      "4           Andorra  Andorra la Vella   42.5167     1.5333\n",
      "..              ...               ...       ...        ...\n",
      "194       Venezuela           Caracas   10.5000   -66.9167\n",
      "195        Viet Nam             Hanoi   21.0833   105.9167\n",
      "196      Yugoslavia          Belgrade   44.8333    20.6167\n",
      "197          Zambia            Lusaka  -15.4667    28.2667\n",
      "198        Zimbabwe            Harare  -17.7167    31.0333\n",
      "\n",
      "[199 rows x 4 columns]\n"
     ]
    }
   ],
   "source": [
    "def dms_to_decimal(coord):\n",
    "    direction = coord[-1]  # Get the last character (N or S)\n",
    "    degrees, minutes = map(float, coord[:-1].split('.'))\n",
    "    decimal = degrees + minutes / 60\n",
    "    if direction == 'W':\n",
    "        decimal *= -1\n",
    "    return \"{:.4f}\".format(decimal)\n",
    "\n",
    "# make the column string dtype\n",
    "content[\"Longitude\"] = content[\"Longitude\"].astype(str)\n",
    "\n",
    "# Apply the function \n",
    "content['Longitude'] = content['Longitude'].apply(dms_to_decimal)\n",
    "\n",
    "# Display the modified DataFrame\n",
    "print(content)"
   ]
  },
  {
   "cell_type": "markdown",
   "id": "57c89e4b",
   "metadata": {},
   "source": [
    "Once we have the data in this format, it should be matched with the data of a population dataset, which lists countries, their capitals with their respective population before we reach the end goal. \n",
    "\n",
    "As mentioned, the end idea is to show a world map showing the world capitals with dots as large as their population is proportional to all the other capitals. "
   ]
  },
  {
   "cell_type": "markdown",
   "id": "5b03d7c2",
   "metadata": {},
   "source": [
    "Before that, we need to obtain the data from the second dataset. The idea here is to show data processing techniques, not the most up-to-date information about the capitals' population, as the data is from 2007. This could be an encouragement for other researchers to reuse this work for this purpose and make comparisons. \n",
    "\n",
    "**Source: [Population of Capital Cities 2007](https://data.amerigeoss.org/dataset/world-population-of-capital-cities-2007/resource/2f2c6f84-5ec4-405e-95ad-eec08e28f86f?view_id=701816ea-0d4c-47f5-b2db-7a983a269aab)**"
   ]
  },
  {
   "cell_type": "code",
   "execution_count": 25,
   "id": "13f266e1",
   "metadata": {},
   "outputs": [],
   "source": [
    "file_path = \"csv_capital_cities_population.csv\""
   ]
  },
  {
   "cell_type": "code",
   "execution_count": 26,
   "id": "491a4abf",
   "metadata": {
    "scrolled": true
   },
   "outputs": [
    {
     "data": {
      "text/html": [
       "<div>\n",
       "<style scoped>\n",
       "    .dataframe tbody tr th:only-of-type {\n",
       "        vertical-align: middle;\n",
       "    }\n",
       "\n",
       "    .dataframe tbody tr th {\n",
       "        vertical-align: top;\n",
       "    }\n",
       "\n",
       "    .dataframe thead th {\n",
       "        text-align: right;\n",
       "    }\n",
       "</style>\n",
       "<table border=\"1\" class=\"dataframe\">\n",
       "  <thead>\n",
       "    <tr style=\"text-align: right;\">\n",
       "      <th></th>\n",
       "      <th>Country</th>\n",
       "      <th>Capital</th>\n",
       "      <th>Population000s</th>\n",
       "    </tr>\n",
       "  </thead>\n",
       "  <tbody>\n",
       "    <tr>\n",
       "      <th>0</th>\n",
       "      <td>Afghanistan</td>\n",
       "      <td>Kabul</td>\n",
       "      <td>3,324</td>\n",
       "    </tr>\n",
       "    <tr>\n",
       "      <th>1</th>\n",
       "      <td>Albania</td>\n",
       "      <td>Tirana</td>\n",
       "      <td>406</td>\n",
       "    </tr>\n",
       "    <tr>\n",
       "      <th>2</th>\n",
       "      <td>Algeria</td>\n",
       "      <td>Algiers</td>\n",
       "      <td>3,355</td>\n",
       "    </tr>\n",
       "    <tr>\n",
       "      <th>3</th>\n",
       "      <td>American Samoa</td>\n",
       "      <td>Pago Pago</td>\n",
       "      <td>58</td>\n",
       "    </tr>\n",
       "    <tr>\n",
       "      <th>4</th>\n",
       "      <td>Andorra</td>\n",
       "      <td>Andorra la Vella</td>\n",
       "      <td>24</td>\n",
       "    </tr>\n",
       "  </tbody>\n",
       "</table>\n",
       "</div>"
      ],
      "text/plain": [
       "          Country           Capital Population000s\n",
       "0     Afghanistan             Kabul          3,324\n",
       "1         Albania            Tirana            406\n",
       "2         Algeria           Algiers          3,355\n",
       "3  American Samoa         Pago Pago             58\n",
       "4         Andorra  Andorra la Vella             24"
      ]
     },
     "execution_count": 26,
     "metadata": {},
     "output_type": "execute_result"
    }
   ],
   "source": [
    "cap_population = pd.read_csv(file_path)\n",
    "\n",
    "cap_population.head()"
   ]
  },
  {
   "cell_type": "markdown",
   "id": "7862228d",
   "metadata": {},
   "source": [
    "As seen, in raw format, the population is given in thousands, not directly in their full count. This is why this has been improved on the side."
   ]
  },
  {
   "cell_type": "markdown",
   "id": "87cef6ba",
   "metadata": {},
   "source": [
    "Due to some complications in the names of the capitals - é, à, etc. the names had to be made more standardized. The next commands and error messages show the issues with the dataset, which are now, of course, resolved. Again, it can be used by future researchers to find the information that cannot be parsed properly. For this document, it remains commented."
   ]
  },
  {
   "cell_type": "code",
   "execution_count": 27,
   "id": "357ef33b",
   "metadata": {},
   "outputs": [],
   "source": [
    "# with open(file_path, 'rb') as file:\n",
    "#     chunk = file.read(100)\n",
    "# chunk"
   ]
  },
  {
   "cell_type": "markdown",
   "id": "6b818bad",
   "metadata": {},
   "source": [
    "As mentioned above, the two tables were matched together to combine the geo location and the population of each capital. The working table is available in the folder under the name [csv_geoloc_ready](csv_geoloc_ready.csv), but will not be presented, as it was used for the data processing. As a result, a third dataset was created -  [geo_pop_full](geo_pop_full.csv)\n",
    "\n"
   ]
  },
  {
   "cell_type": "markdown",
   "id": "e8bad460",
   "metadata": {},
   "source": [
    "The dataset obtained from this process is shown below:"
   ]
  },
  {
   "cell_type": "code",
   "execution_count": 28,
   "id": "a257c4d6",
   "metadata": {},
   "outputs": [
    {
     "data": {
      "text/html": [
       "<div>\n",
       "<style scoped>\n",
       "    .dataframe tbody tr th:only-of-type {\n",
       "        vertical-align: middle;\n",
       "    }\n",
       "\n",
       "    .dataframe tbody tr th {\n",
       "        vertical-align: top;\n",
       "    }\n",
       "\n",
       "    .dataframe thead th {\n",
       "        text-align: right;\n",
       "    }\n",
       "</style>\n",
       "<table border=\"1\" class=\"dataframe\">\n",
       "  <thead>\n",
       "    <tr style=\"text-align: right;\">\n",
       "      <th></th>\n",
       "      <th>Country</th>\n",
       "      <th>Capital</th>\n",
       "      <th>Latitude</th>\n",
       "      <th>Longitude</th>\n",
       "      <th>Population</th>\n",
       "    </tr>\n",
       "  </thead>\n",
       "  <tbody>\n",
       "    <tr>\n",
       "      <th>0</th>\n",
       "      <td>Afghanistan</td>\n",
       "      <td>Kabul</td>\n",
       "      <td>34.4667</td>\n",
       "      <td>69.1833</td>\n",
       "      <td>3324000</td>\n",
       "    </tr>\n",
       "    <tr>\n",
       "      <th>1</th>\n",
       "      <td>Albania</td>\n",
       "      <td>Tirane</td>\n",
       "      <td>41.3000</td>\n",
       "      <td>19.8167</td>\n",
       "      <td>406000</td>\n",
       "    </tr>\n",
       "    <tr>\n",
       "      <th>2</th>\n",
       "      <td>Algeria</td>\n",
       "      <td>Algiers</td>\n",
       "      <td>36.7000</td>\n",
       "      <td>3.1333</td>\n",
       "      <td>3355000</td>\n",
       "    </tr>\n",
       "    <tr>\n",
       "      <th>3</th>\n",
       "      <td>American Samoa</td>\n",
       "      <td>Pago Pago</td>\n",
       "      <td>-14.2667</td>\n",
       "      <td>-170.7167</td>\n",
       "      <td>58000</td>\n",
       "    </tr>\n",
       "    <tr>\n",
       "      <th>4</th>\n",
       "      <td>Andorra</td>\n",
       "      <td>Andorra la Vella</td>\n",
       "      <td>42.5167</td>\n",
       "      <td>1.5333</td>\n",
       "      <td>24000</td>\n",
       "    </tr>\n",
       "  </tbody>\n",
       "</table>\n",
       "</div>"
      ],
      "text/plain": [
       "          Country           Capital  Latitude  Longitude  Population\n",
       "0     Afghanistan             Kabul   34.4667    69.1833     3324000\n",
       "1         Albania            Tirane   41.3000    19.8167      406000\n",
       "2         Algeria           Algiers   36.7000     3.1333     3355000\n",
       "3  American Samoa         Pago Pago  -14.2667  -170.7167       58000\n",
       "4         Andorra  Andorra la Vella   42.5167     1.5333       24000"
      ]
     },
     "execution_count": 28,
     "metadata": {},
     "output_type": "execute_result"
    }
   ],
   "source": [
    "population = pd.read_csv(\"geo_pop_full.csv\")\n",
    "\n",
    "population.head()"
   ]
  },
  {
   "cell_type": "markdown",
   "id": "a1746ae1",
   "metadata": {},
   "source": [
    "The next step is to make a different representation of the population, and more accurately - to make it proportionally equal to a dot with a size having values within a different range. After few experiments, the best minimum and maximum values are:\n",
    "- 1 - least populated city\n",
    "- 200 - most populated city\n",
    "\n",
    "\n",
    "First, let's find the min and max values in the Population column."
   ]
  },
  {
   "cell_type": "code",
   "execution_count": 29,
   "id": "cfcd49b3",
   "metadata": {},
   "outputs": [
    {
     "name": "stdout",
     "output_type": "stream",
     "text": [
      "2000 35670000\n"
     ]
    }
   ],
   "source": [
    "# Find the minimum input value\n",
    "input_min = population[\"Population\"].min()\n",
    "\n",
    "\n",
    "# Find the maximum input value\n",
    "input_max = population[\"Population\"].max()\n",
    "\n",
    "print(input_min, input_max)\n",
    "\n",
    "# It appears the min and max input values are:\n",
    "# input_min = 2000\n",
    "# input_max = 35670000"
   ]
  },
  {
   "cell_type": "code",
   "execution_count": 30,
   "id": "95771d93",
   "metadata": {},
   "outputs": [],
   "source": [
    "# Set the output values - the range within which the population size dots will be represented\n",
    "output_min = 1\n",
    "output_max = 200\n",
    "\n"
   ]
  },
  {
   "cell_type": "markdown",
   "id": "09200e00",
   "metadata": {},
   "source": [
    "Let's create the function scaling the population within those limits 1-200:"
   ]
  },
  {
   "cell_type": "code",
   "execution_count": 31,
   "id": "e8c1ad04",
   "metadata": {
    "scrolled": true
   },
   "outputs": [
    {
     "name": "stdout",
     "output_type": "stream",
     "text": [
      "Scaled values with 4 digits only: \n",
      "[19.5342, 3.254, 19.7072, 1.3124, 1.1227, 23.3448, 1.1339, 72.3584, 7.1372, 1.1674, 3.0978, 13.9048, 11.5447, 2.3279, 1.8648, 76.1746, 1.636, 11.0649, 10.7134, 1.0781, 5.2402, 1.4519, 9.8598, 3.0922, 2.2386, 21.0406, 1.0391, 1.1116, 7.6058, 7.3938, 3.3879, 9.1624, 9.9714, 7.3659, 1.6862, 1.1451, 4.7381, 6.4955, 32.8965, 62.9629, 44.306, 1.2455, 8.4204, 8.1526, 22.1955, 4.8329, 13.1404, 2.2888, 7.4719, 19.4059, 44.7914, 7.0479, 4.2415, 1.067, 13.0065, 10.4568, 67.3482, 8.9839, 1.5244, 4.3364, 3.2038, 18.2956, 1.0, 1.1004, 2.2386, 7.2097, 56.2344, 1.3403, 1.7197, 4.2025, 3.2596, 7.1204, 19.9861, 12.8168, 19.0767, 1.0725, 1.0558, 6.7076, 9.3242, 2.83, 1.7309, 12.1585, 6.2724, 10.3341, 2.0601, 89.7823, 51.9997, 44.9253, 31.6746, 6.9028, 5.0952, 19.6235, 4.2304, 200.0, 6.9251, 4.3029, 17.7879, 1.2232, 12.4876, 5.6587, 5.1509, 5.017, 11.3495, 2.1716, 7.4886, 13.1962, 1.0167, 4.0184, 1.4575, 10.4568, 5.0728, 9.0676, 1.6081, 9.3242, 2.0991, 1.5021, 4.7437, 107.1393, 1.0279, 4.2917, 1.173, 9.0508, 3.321, 2.7351, 5.9823, 6.741, 1.6583, 1.8592, 3.0308, 6.1217, 6.0938, 9.7984, 1.4129, 5.6419, 4.4535, 5.3406, 1.0558, 8.1303, 2.657, 11.422, 45.6617, 62.935, 10.5126, 16.6721, 15.9914, 3.1424, 55.6597, 11.8125, 59.409, 5.7423, 1.0614, 1.067, 1.0223, 1.1339, 1.2287, 1.0112, 1.3124, 25.8834, 15.5116, 5.5973, 25.7383, 3.3544, 2.3502, 1.3571, 9.0787, 8.4427, 32.0484, 27.5571, 2.3948, 1.424, 8.041, 2.869, 14.7528, 4.0742, 38.4032, 3.6669, 9.0843, 1.1283, 5.1509, 21.7157, 5.1398, 1.0167, 8.9113, 16.0807, 4.3587, 48.7805, 2.0098, 25.1915, 1.2845, 9.4358, 13.1739, 1.212, 17.6484, 25.4091, 8.3981, 9.7594]\n"
     ]
    }
   ],
   "source": [
    "def linear_scale(value, input_min, input_max, output_min, output_max):\n",
    "    input_range = input_max - input_min\n",
    "    output_range = output_max - output_min\n",
    "    scaled_value = ((value - input_min) / input_range) * output_range + output_min\n",
    "    return scaled_value\n",
    "\n",
    "# Population values\n",
    "test_values = population[\"Population\"]\n",
    "\n",
    "# Perform linear scaling\n",
    "scaled_values = [linear_scale(value, input_min, input_max, output_min, output_max) for value in test_values]\n",
    "\n",
    "scaled_values = [float(\"{:.4f}\".format(scaled_value)) for scaled_value in scaled_values]\n",
    "print(f\"Scaled values with 4 digits only: \\n{scaled_values}\")\n"
   ]
  },
  {
   "cell_type": "markdown",
   "id": "c39076ea",
   "metadata": {},
   "source": [
    "Once done, we add the data to the data frame in another column"
   ]
  },
  {
   "cell_type": "code",
   "execution_count": 32,
   "id": "90ec40cb",
   "metadata": {},
   "outputs": [],
   "source": [
    "population[\"scaled_population\"] = scaled_values"
   ]
  },
  {
   "cell_type": "code",
   "execution_count": 33,
   "id": "8cbdfba1",
   "metadata": {
    "scrolled": true
   },
   "outputs": [
    {
     "data": {
      "text/html": [
       "<div>\n",
       "<style scoped>\n",
       "    .dataframe tbody tr th:only-of-type {\n",
       "        vertical-align: middle;\n",
       "    }\n",
       "\n",
       "    .dataframe tbody tr th {\n",
       "        vertical-align: top;\n",
       "    }\n",
       "\n",
       "    .dataframe thead th {\n",
       "        text-align: right;\n",
       "    }\n",
       "</style>\n",
       "<table border=\"1\" class=\"dataframe\">\n",
       "  <thead>\n",
       "    <tr style=\"text-align: right;\">\n",
       "      <th></th>\n",
       "      <th>Country</th>\n",
       "      <th>Capital</th>\n",
       "      <th>Latitude</th>\n",
       "      <th>Longitude</th>\n",
       "      <th>Population</th>\n",
       "      <th>scaled_population</th>\n",
       "    </tr>\n",
       "  </thead>\n",
       "  <tbody>\n",
       "    <tr>\n",
       "      <th>0</th>\n",
       "      <td>Afghanistan</td>\n",
       "      <td>Kabul</td>\n",
       "      <td>34.4667</td>\n",
       "      <td>69.1833</td>\n",
       "      <td>3324000</td>\n",
       "      <td>19.5342</td>\n",
       "    </tr>\n",
       "    <tr>\n",
       "      <th>1</th>\n",
       "      <td>Albania</td>\n",
       "      <td>Tirane</td>\n",
       "      <td>41.3000</td>\n",
       "      <td>19.8167</td>\n",
       "      <td>406000</td>\n",
       "      <td>3.2540</td>\n",
       "    </tr>\n",
       "    <tr>\n",
       "      <th>2</th>\n",
       "      <td>Algeria</td>\n",
       "      <td>Algiers</td>\n",
       "      <td>36.7000</td>\n",
       "      <td>3.1333</td>\n",
       "      <td>3355000</td>\n",
       "      <td>19.7072</td>\n",
       "    </tr>\n",
       "    <tr>\n",
       "      <th>3</th>\n",
       "      <td>American Samoa</td>\n",
       "      <td>Pago Pago</td>\n",
       "      <td>-14.2667</td>\n",
       "      <td>-170.7167</td>\n",
       "      <td>58000</td>\n",
       "      <td>1.3124</td>\n",
       "    </tr>\n",
       "    <tr>\n",
       "      <th>4</th>\n",
       "      <td>Andorra</td>\n",
       "      <td>Andorra la Vella</td>\n",
       "      <td>42.5167</td>\n",
       "      <td>1.5333</td>\n",
       "      <td>24000</td>\n",
       "      <td>1.1227</td>\n",
       "    </tr>\n",
       "  </tbody>\n",
       "</table>\n",
       "</div>"
      ],
      "text/plain": [
       "          Country           Capital  Latitude  Longitude  Population  \\\n",
       "0     Afghanistan             Kabul   34.4667    69.1833     3324000   \n",
       "1         Albania            Tirane   41.3000    19.8167      406000   \n",
       "2         Algeria           Algiers   36.7000     3.1333     3355000   \n",
       "3  American Samoa         Pago Pago  -14.2667  -170.7167       58000   \n",
       "4         Andorra  Andorra la Vella   42.5167     1.5333       24000   \n",
       "\n",
       "   scaled_population  \n",
       "0            19.5342  \n",
       "1             3.2540  \n",
       "2            19.7072  \n",
       "3             1.3124  \n",
       "4             1.1227  "
      ]
     },
     "execution_count": 33,
     "metadata": {},
     "output_type": "execute_result"
    }
   ],
   "source": [
    "population.head()"
   ]
  },
  {
   "cell_type": "markdown",
   "id": "c441c241",
   "metadata": {},
   "source": [
    "Before the final step, we extract the Latitude and Longitude columns as lists that will ultimately be added in the coordinates list. "
   ]
  },
  {
   "cell_type": "code",
   "execution_count": 34,
   "id": "8a3136d8",
   "metadata": {},
   "outputs": [],
   "source": [
    "lng_list = population[\"Longitude\"].to_list()\n",
    "lat_list = population[\"Latitude\"].to_list()"
   ]
  },
  {
   "cell_type": "markdown",
   "id": "87e732bf",
   "metadata": {},
   "source": [
    "To make each dot having the respective size, we use the last column of the dataframe as \"markersize\" as the parameter is called."
   ]
  },
  {
   "cell_type": "code",
   "execution_count": 35,
   "id": "0a778432",
   "metadata": {},
   "outputs": [
    {
     "data": {
      "image/png": "[encoded data removed]",
      "text/plain": [
       "<Figure size 1200x800 with 1 Axes>"
      ]
     },
     "metadata": {},
     "output_type": "display_data"
    }
   ],
   "source": [
    "land = gpd.read_file(geodatasets.data.naturalearth.land.url)\n",
    "\n",
    "fig = plt.figure(figsize = (12, 8))\n",
    "ax = fig.gca()\n",
    "land.plot(ax = ax, color = \"green\")\n",
    "ax.set_facecolor(\"aqua\")\n",
    "coordinates =[(x, y) for x, y in zip(lng_list, lat_list)]\n",
    "\n",
    "points = [Point(x, y) for x, y in coordinates]\n",
    "points_gdf = gpd.GeoDataFrame(geometry=points, crs=land.crs)\n",
    "\n",
    "points_gdf.plot(ax=ax, color=\"red\", markersize=population[\"scaled_population\"], marker=\"o\", label=\"My Points\")\n",
    "\n",
    "plt.show()"
   ]
  },
  {
   "cell_type": "markdown",
   "id": "7d396ef7",
   "metadata": {},
   "source": [
    "# Conclusion"
   ]
  },
  {
   "cell_type": "markdown",
   "id": "7e2a83fd",
   "metadata": {},
   "source": [
    "In conclusion, the first dataset attempted to show dependencies between car features and their acceptance levels. Having taken one feature (number of doors), the outcome revealed that the more doors a car has, the more acceptable it is, which can be confirmed in real life due to its practicality. In addition to this, the Random Forest Classifier Algorithm was used to predict the acceptance level of some vehicles given a training set of the same dataset. The algorithm was able to predict correctly almost 98% of the test set and the results were also visually represented. \n",
    "\n",
    "The second part of this research had the goal of representing world's capitals as dots on a world map which have a size proportional to their population. The data is taken from 2007, which revealed that Japan is the most populated city in the world, a top place still being held by the Japanese capital with currently having about 37 million citizens. After the data processing and the generating the visualisation, it can be observed that the majority of the capitals are located near the sea/ocean. This could be explained by economic reasons such as better trade with other parts the world, easier access and export of goods from abroad, tourism, history and many more. Such reasons could be further analysed in future pieces of research to better understand why our predecessors have chosen those locations to become the capitals of our countries today. "
   ]
  }
 ],
 "metadata": {
  "kernelspec": {
   "display_name": "Python 3 (ipykernel)",
   "language": "python",
   "name": "python3"
  },
  "language_info": {
   "codemirror_mode": {
    "name": "ipython",
    "version": 3
   },
   "file_extension": ".py",
   "mimetype": "text/x-python",
   "name": "python",
   "nbconvert_exporter": "python",
   "pygments_lexer": "ipython3",
   "version": "3.9.13"
  }
 },
 "nbformat": 4,
 "nbformat_minor": 5
}
